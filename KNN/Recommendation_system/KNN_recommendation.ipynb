{
 "cells": [
  {
   "cell_type": "code",
   "execution_count": 1,
   "metadata": {},
   "outputs": [],
   "source": [
    "import numpy as np\n",
    "import pandas as pd\n",
    "import matplotlib.pyplot as plt\n",
    "from sklearn import preprocessing, neighbors\n",
    "from itertools import chain"
   ]
  },
  {
   "cell_type": "code",
   "execution_count": 2,
   "metadata": {},
   "outputs": [],
   "source": [
    "df_init = pd.read_csv('E:\\\\greenfox\\\\ProjectPhase\\\\omdb_clean.csv')"
   ]
  },
  {
   "cell_type": "code",
   "execution_count": 3,
   "metadata": {},
   "outputs": [],
   "source": [
    "df_init['Runtime'].fillna(df_init['Runtime'].mean(), inplace=True)"
   ]
  },
  {
   "cell_type": "code",
   "execution_count": 4,
   "metadata": {},
   "outputs": [],
   "source": [
    "df_init['Oscar_winner'] = df_init['Oscar_winner'].str.extract(r'(\\d+)')"
   ]
  },
  {
   "cell_type": "code",
   "execution_count": 5,
   "metadata": {},
   "outputs": [],
   "source": [
    "df_init['Oscar_winner'].fillna(0, inplace= True)"
   ]
  },
  {
   "cell_type": "code",
   "execution_count": 6,
   "metadata": {},
   "outputs": [],
   "source": [
    "df_init['Release_year'] = df_init['Released'].str[-4:]"
   ]
  },
  {
   "cell_type": "code",
   "execution_count": 7,
   "metadata": {},
   "outputs": [],
   "source": [
    "df_init['Release_year'] = df_init['Release_year'].astype(str)"
   ]
  },
  {
   "cell_type": "code",
   "execution_count": 8,
   "metadata": {},
   "outputs": [],
   "source": [
    "def date_convert(row):\n",
    "    if '.' in row:\n",
    "        date_slice = row[-2:]\n",
    "        date_int = int(date_slice)\n",
    "        if date_int < 20:\n",
    "            date_proper = '20' + str(date_slice)\n",
    "            row = date_proper\n",
    "        else:\n",
    "            date_proper = '19' + str(date_slice)\n",
    "            row = date_proper\n",
    "        return row\n",
    "    else:\n",
    "        return row"
   ]
  },
  {
   "cell_type": "code",
   "execution_count": 9,
   "metadata": {
    "scrolled": true
   },
   "outputs": [],
   "source": [
    "df_init['Release_year'] = df_init['Release_year'].map(date_convert)"
   ]
  },
  {
   "cell_type": "code",
   "execution_count": 10,
   "metadata": {},
   "outputs": [],
   "source": [
    "df_init['Genre'].fillna('', inplace = True)"
   ]
  },
  {
   "cell_type": "code",
   "execution_count": 11,
   "metadata": {},
   "outputs": [],
   "source": [
    "splitted_list = []\n",
    "for item in df_init['Genre']:\n",
    "    splitted_genres = item.split(', ')\n",
    "    splitted_list.append(splitted_genres)\n",
    "\n",
    "genres = (list(set(chain(*splitted_list))))"
   ]
  },
  {
   "cell_type": "code",
   "execution_count": 12,
   "metadata": {
    "scrolled": true
   },
   "outputs": [],
   "source": [
    "for genre in genres:\n",
    "    genre_type = genre\n",
    "    confirm_list = []\n",
    "    for movie_genres in df_init['Genre'].values:\n",
    "        if genre_type in movie_genres:\n",
    "            confirm_list.append(1)\n",
    "        else:\n",
    "            confirm_list.append(0)\n",
    "    df_init[genre_type] = confirm_list"
   ]
  },
  {
   "cell_type": "code",
   "execution_count": 13,
   "metadata": {},
   "outputs": [],
   "source": [
    "min_max_scaler = preprocessing.MinMaxScaler()"
   ]
  },
  {
   "cell_type": "markdown",
   "metadata": {},
   "source": [
    "# Normalizing runtime column"
   ]
  },
  {
   "cell_type": "code",
   "execution_count": 14,
   "metadata": {
    "scrolled": true
   },
   "outputs": [],
   "source": [
    "runtime = df_init[['Runtime']].values.astype(float)"
   ]
  },
  {
   "cell_type": "code",
   "execution_count": 15,
   "metadata": {
    "scrolled": true
   },
   "outputs": [],
   "source": [
    "runtime_norm = min_max_scaler.fit_transform(runtime)"
   ]
  },
  {
   "cell_type": "markdown",
   "metadata": {},
   "source": [
    "# Normalizing Oscar wins column"
   ]
  },
  {
   "cell_type": "code",
   "execution_count": 16,
   "metadata": {
    "scrolled": false
   },
   "outputs": [],
   "source": [
    "oscars = df_init[['Oscar_winner']].values.astype(float)"
   ]
  },
  {
   "cell_type": "code",
   "execution_count": 17,
   "metadata": {
    "scrolled": true
   },
   "outputs": [],
   "source": [
    "oscars_norm = min_max_scaler.fit_transform(oscars)"
   ]
  },
  {
   "cell_type": "markdown",
   "metadata": {},
   "source": [
    "# Normalizing imdb votes column"
   ]
  },
  {
   "cell_type": "code",
   "execution_count": 18,
   "metadata": {},
   "outputs": [],
   "source": [
    "imdbvotes = df_init[['imdbVotes']].values.astype(float)"
   ]
  },
  {
   "cell_type": "code",
   "execution_count": 19,
   "metadata": {
    "scrolled": true
   },
   "outputs": [],
   "source": [
    "imdbvotes_norm = min_max_scaler.fit_transform(imdbvotes)"
   ]
  },
  {
   "cell_type": "markdown",
   "metadata": {},
   "source": [
    "# Normalizing boxoffice column "
   ]
  },
  {
   "cell_type": "code",
   "execution_count": 20,
   "metadata": {},
   "outputs": [],
   "source": [
    "boxoffice = df_init[['BoxOffice']].values.astype(float)"
   ]
  },
  {
   "cell_type": "code",
   "execution_count": 21,
   "metadata": {
    "scrolled": true
   },
   "outputs": [],
   "source": [
    "boxoffice_norm = min_max_scaler.fit_transform(boxoffice)"
   ]
  },
  {
   "cell_type": "markdown",
   "metadata": {},
   "source": [
    "# Normalizing release year column"
   ]
  },
  {
   "cell_type": "code",
   "execution_count": 22,
   "metadata": {},
   "outputs": [],
   "source": [
    "release_year = df_init[['Release_year']].values.astype(float)"
   ]
  },
  {
   "cell_type": "code",
   "execution_count": 23,
   "metadata": {},
   "outputs": [],
   "source": [
    "release_year_norm = min_max_scaler.fit_transform(release_year)"
   ]
  },
  {
   "cell_type": "markdown",
   "metadata": {},
   "source": [
    "# Create dataframe from normalized columns"
   ]
  },
  {
   "cell_type": "code",
   "execution_count": 24,
   "metadata": {},
   "outputs": [],
   "source": [
    "df_normalized = pd.DataFrame({'Oscars': [elem[0] for elem in oscars_norm],\n",
    "                              'Runtime': [elem[0] for elem in runtime_norm],\n",
    "                              'Boxoffice': [elem[0] for elem in boxoffice_norm],\n",
    "                              'IMDB_votes': [elem[0] for elem in imdbvotes_norm],\n",
    "                              'Release_year': [elem[0] for elem in release_year_norm],})"
   ]
  },
  {
   "cell_type": "code",
   "execution_count": 25,
   "metadata": {},
   "outputs": [],
   "source": [
    "df_normalized['IMDB_rating'] = df_init['imdb_Rating']\n",
    "df_normalized['Rotten_rating'] = df_init['RottenTomatoes_Rating']\n",
    "df_normalized['Metacritic_rating'] = df_init['Metacritic_Rating']\n",
    "df_normalized[genres] = df_init[genres] * 0.7\n",
    "df_normalized['Title'] = df_init['Title']\n",
    "# df_normalized['Rated'] = df_init['Rated']"
   ]
  },
  {
   "cell_type": "code",
   "execution_count": 26,
   "metadata": {
    "scrolled": true
   },
   "outputs": [],
   "source": [
    "df_normalized['IMDB_rating'].mean()\n",
    "df_normalized['IMDB_rating'].fillna(df_normalized['IMDB_rating'].mean(), inplace = True)"
   ]
  },
  {
   "cell_type": "code",
   "execution_count": 27,
   "metadata": {},
   "outputs": [],
   "source": [
    "df_normalized['IMDB_votes'].fillna(df_normalized['IMDB_votes'].mean(), inplace = True)\n",
    "df_normalized['Rotten_rating'].fillna(df_normalized['Rotten_rating'].mean(), inplace = True)\n",
    "df_normalized['Metacritic_rating'].fillna(df_normalized['Metacritic_rating'].mean(), inplace = True)\n",
    "df_normalized['Release_year'].fillna(df_normalized['Release_year'].mean() , inplace = True)\n",
    "df_normalized['Boxoffice'].fillna(df_normalized['Boxoffice'].mean(), inplace = True)\n",
    "# df_normalized['Rated'].fillna('R2', inplace = True)\n",
    "# df_normalized['Rated'].replace(r'U(NRATED|nrated)', r'NOT RATED', inplace = True, regex = True)\n",
    "# df_normalized['Rated'].replace(r'Not (r|R)ated', r'NOT RATED', inplace = True, regex = True)\n",
    "# df_normalized['Rated'].replace('Approved', 'APPROVED', inplace = True)\n",
    "# df_normalized['Rated'].replace('Passed', 'PASSED', inplace = True)"
   ]
  },
  {
   "cell_type": "markdown",
   "metadata": {},
   "source": [
    "# Create model to find nearest neighbours"
   ]
  },
  {
   "cell_type": "code",
   "execution_count": 28,
   "metadata": {},
   "outputs": [
    {
     "data": {
      "text/html": [
       "<div>\n",
       "<style scoped>\n",
       "    .dataframe tbody tr th:only-of-type {\n",
       "        vertical-align: middle;\n",
       "    }\n",
       "\n",
       "    .dataframe tbody tr th {\n",
       "        vertical-align: top;\n",
       "    }\n",
       "\n",
       "    .dataframe thead th {\n",
       "        text-align: right;\n",
       "    }\n",
       "</style>\n",
       "<table border=\"1\" class=\"dataframe\">\n",
       "  <thead>\n",
       "    <tr style=\"text-align: right;\">\n",
       "      <th></th>\n",
       "      <th>Oscars</th>\n",
       "      <th>Runtime</th>\n",
       "      <th>Boxoffice</th>\n",
       "      <th>IMDB_votes</th>\n",
       "      <th>Release_year</th>\n",
       "      <th>IMDB_rating</th>\n",
       "      <th>Rotten_rating</th>\n",
       "      <th>Metacritic_rating</th>\n",
       "      <th></th>\n",
       "      <th>Fantasy</th>\n",
       "      <th>...</th>\n",
       "      <th>Action</th>\n",
       "      <th>Romance</th>\n",
       "      <th>Reality-TV</th>\n",
       "      <th>Drama</th>\n",
       "      <th>Mystery</th>\n",
       "      <th>Animation</th>\n",
       "      <th>Sci-Fi</th>\n",
       "      <th>Sport</th>\n",
       "      <th>Crime</th>\n",
       "      <th>Title</th>\n",
       "    </tr>\n",
       "  </thead>\n",
       "  <tbody>\n",
       "    <tr>\n",
       "      <th>0</th>\n",
       "      <td>0.000000</td>\n",
       "      <td>0.142568</td>\n",
       "      <td>0.029992</td>\n",
       "      <td>1.000000</td>\n",
       "      <td>0.827586</td>\n",
       "      <td>0.693716</td>\n",
       "      <td>0.91</td>\n",
       "      <td>0.80</td>\n",
       "      <td>0.7</td>\n",
       "      <td>0.0</td>\n",
       "      <td>...</td>\n",
       "      <td>0.0</td>\n",
       "      <td>0.0</td>\n",
       "      <td>0.0</td>\n",
       "      <td>0.7</td>\n",
       "      <td>0.0</td>\n",
       "      <td>0.0</td>\n",
       "      <td>0.0</td>\n",
       "      <td>0.0</td>\n",
       "      <td>0.0</td>\n",
       "      <td>The Shawshank Redemption</td>\n",
       "    </tr>\n",
       "    <tr>\n",
       "      <th>1</th>\n",
       "      <td>0.181818</td>\n",
       "      <td>0.152679</td>\n",
       "      <td>0.569381</td>\n",
       "      <td>0.980305</td>\n",
       "      <td>0.924138</td>\n",
       "      <td>0.900000</td>\n",
       "      <td>0.94</td>\n",
       "      <td>0.84</td>\n",
       "      <td>0.7</td>\n",
       "      <td>0.0</td>\n",
       "      <td>...</td>\n",
       "      <td>0.7</td>\n",
       "      <td>0.0</td>\n",
       "      <td>0.0</td>\n",
       "      <td>0.7</td>\n",
       "      <td>0.0</td>\n",
       "      <td>0.0</td>\n",
       "      <td>0.0</td>\n",
       "      <td>0.0</td>\n",
       "      <td>0.7</td>\n",
       "      <td>The Dark Knight</td>\n",
       "    </tr>\n",
       "    <tr>\n",
       "      <th>2</th>\n",
       "      <td>0.363636</td>\n",
       "      <td>0.148635</td>\n",
       "      <td>0.312354</td>\n",
       "      <td>0.869800</td>\n",
       "      <td>0.937931</td>\n",
       "      <td>0.693716</td>\n",
       "      <td>0.86</td>\n",
       "      <td>0.74</td>\n",
       "      <td>0.7</td>\n",
       "      <td>0.0</td>\n",
       "      <td>...</td>\n",
       "      <td>0.7</td>\n",
       "      <td>0.0</td>\n",
       "      <td>0.0</td>\n",
       "      <td>0.0</td>\n",
       "      <td>0.0</td>\n",
       "      <td>0.0</td>\n",
       "      <td>0.7</td>\n",
       "      <td>0.0</td>\n",
       "      <td>0.0</td>\n",
       "      <td>Inception</td>\n",
       "    </tr>\n",
       "    <tr>\n",
       "      <th>3</th>\n",
       "      <td>0.000000</td>\n",
       "      <td>0.139535</td>\n",
       "      <td>0.029992</td>\n",
       "      <td>0.800420</td>\n",
       "      <td>0.862069</td>\n",
       "      <td>0.693716</td>\n",
       "      <td>0.79</td>\n",
       "      <td>0.66</td>\n",
       "      <td>0.7</td>\n",
       "      <td>0.0</td>\n",
       "      <td>...</td>\n",
       "      <td>0.0</td>\n",
       "      <td>0.0</td>\n",
       "      <td>0.0</td>\n",
       "      <td>0.7</td>\n",
       "      <td>0.0</td>\n",
       "      <td>0.0</td>\n",
       "      <td>0.0</td>\n",
       "      <td>0.0</td>\n",
       "      <td>0.0</td>\n",
       "      <td>Fight Club</td>\n",
       "    </tr>\n",
       "    <tr>\n",
       "      <th>4</th>\n",
       "      <td>0.090909</td>\n",
       "      <td>0.154702</td>\n",
       "      <td>0.029992</td>\n",
       "      <td>0.777017</td>\n",
       "      <td>0.827586</td>\n",
       "      <td>0.693716</td>\n",
       "      <td>0.94</td>\n",
       "      <td>0.94</td>\n",
       "      <td>0.7</td>\n",
       "      <td>0.0</td>\n",
       "      <td>...</td>\n",
       "      <td>0.0</td>\n",
       "      <td>0.0</td>\n",
       "      <td>0.0</td>\n",
       "      <td>0.7</td>\n",
       "      <td>0.0</td>\n",
       "      <td>0.0</td>\n",
       "      <td>0.0</td>\n",
       "      <td>0.0</td>\n",
       "      <td>0.7</td>\n",
       "      <td>Pulp Fiction</td>\n",
       "    </tr>\n",
       "  </tbody>\n",
       "</table>\n",
       "<p>5 rows × 38 columns</p>\n",
       "</div>"
      ],
      "text/plain": [
       "     Oscars   Runtime  Boxoffice  IMDB_votes  Release_year  IMDB_rating  \\\n",
       "0  0.000000  0.142568   0.029992    1.000000      0.827586     0.693716   \n",
       "1  0.181818  0.152679   0.569381    0.980305      0.924138     0.900000   \n",
       "2  0.363636  0.148635   0.312354    0.869800      0.937931     0.693716   \n",
       "3  0.000000  0.139535   0.029992    0.800420      0.862069     0.693716   \n",
       "4  0.090909  0.154702   0.029992    0.777017      0.827586     0.693716   \n",
       "\n",
       "   Rotten_rating  Metacritic_rating       Fantasy            ...             \\\n",
       "0           0.91               0.80  0.7      0.0            ...              \n",
       "1           0.94               0.84  0.7      0.0            ...              \n",
       "2           0.86               0.74  0.7      0.0            ...              \n",
       "3           0.79               0.66  0.7      0.0            ...              \n",
       "4           0.94               0.94  0.7      0.0            ...              \n",
       "\n",
       "   Action  Romance  Reality-TV  Drama  Mystery  Animation  Sci-Fi  Sport  \\\n",
       "0     0.0      0.0         0.0    0.7      0.0        0.0     0.0    0.0   \n",
       "1     0.7      0.0         0.0    0.7      0.0        0.0     0.0    0.0   \n",
       "2     0.7      0.0         0.0    0.0      0.0        0.0     0.7    0.0   \n",
       "3     0.0      0.0         0.0    0.7      0.0        0.0     0.0    0.0   \n",
       "4     0.0      0.0         0.0    0.7      0.0        0.0     0.0    0.0   \n",
       "\n",
       "   Crime                     Title  \n",
       "0    0.0  The Shawshank Redemption  \n",
       "1    0.7           The Dark Knight  \n",
       "2    0.0                 Inception  \n",
       "3    0.0                Fight Club  \n",
       "4    0.7              Pulp Fiction  \n",
       "\n",
       "[5 rows x 38 columns]"
      ]
     },
     "execution_count": 28,
     "metadata": {},
     "output_type": "execute_result"
    }
   ],
   "source": [
    "df_normalized.head()"
   ]
  },
  {
   "cell_type": "code",
   "execution_count": 29,
   "metadata": {},
   "outputs": [],
   "source": [
    "movie_title = 'Fight Club'\n",
    "movie_index = df_normalized.loc[df_normalized['Title'] == movie_title].index[0]"
   ]
  },
  {
   "cell_type": "code",
   "execution_count": 30,
   "metadata": {},
   "outputs": [],
   "source": [
    "X = np.array(df_normalized.drop(['Title'],1))"
   ]
  },
  {
   "cell_type": "code",
   "execution_count": 31,
   "metadata": {
    "scrolled": true
   },
   "outputs": [],
   "source": [
    "nbrs = neighbors.NearestNeighbors(n_neighbors=20, algorithm='ball_tree').fit(X)"
   ]
  },
  {
   "cell_type": "code",
   "execution_count": 32,
   "metadata": {},
   "outputs": [],
   "source": [
    "nearest = nbrs.kneighbors(X[movie_index].reshape(1, -1), return_distance=False)"
   ]
  },
  {
   "cell_type": "markdown",
   "metadata": {},
   "source": [
    "# Recommendations "
   ]
  },
  {
   "cell_type": "code",
   "execution_count": 33,
   "metadata": {
    "scrolled": true
   },
   "outputs": [
    {
     "name": "stdout",
     "output_type": "stream",
     "text": [
      "You searched for the movie: Fight Club\n",
      "\n",
      "Recommendations:\n",
      "0 - The Shawshank Redemption\n",
      "82 - Requiem for a Dream\n",
      "89 - Gran Torino\n",
      "132 - Trainspotting\n",
      "33 - American Beauty\n",
      "253 - House of Cards\n",
      "298 - The Help\n",
      "54 - One Flew Over the Cuckoo's Nest\n",
      "221 - There Will Be Blood\n",
      "532 - Babel\n",
      "319 - Lost in Translation\n",
      "542 - Magnolia\n",
      "241 - Rain Man\n",
      "668 - Scent of a Woman\n",
      "856 - What's Eating Gilbert Grape\n",
      "644 - The Hunt\n",
      "1089 - 25th Hour\n",
      "1013 - Shame\n",
      "723 - Boogie Nights\n"
     ]
    }
   ],
   "source": [
    "print(f\"You searched for the movie: {df_init.iloc[nearest.flat[0]]['Title']}\")\n",
    "print('')\n",
    "print('Recommendations:')\n",
    "for index in nearest.flat[1:]:\n",
    "    title = df_init.iloc[index]['Title']\n",
    "    print(f\"{index} - {df_init.iloc[index]['Title']}\")"
   ]
  }
 ],
 "metadata": {
  "kernelspec": {
   "display_name": "Python 3",
   "language": "python",
   "name": "python3"
  },
  "language_info": {
   "codemirror_mode": {
    "name": "ipython",
    "version": 3
   },
   "file_extension": ".py",
   "mimetype": "text/x-python",
   "name": "python",
   "nbconvert_exporter": "python",
   "pygments_lexer": "ipython3",
   "version": "3.7.1"
  }
 },
 "nbformat": 4,
 "nbformat_minor": 2
}
